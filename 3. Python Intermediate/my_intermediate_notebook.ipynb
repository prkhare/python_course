{
 "cells": [
  {
   "cell_type": "markdown",
   "id": "d32493c8",
   "metadata": {},
   "source": [
    "Can you write a function square_root having default value of input a=9 and find the square-root of the same."
   ]
  },
  {
   "cell_type": "code",
   "execution_count": 2,
   "id": "d83eea51",
   "metadata": {},
   "outputs": [],
   "source": [
    "def square_root(a=9):\n",
    "    return a**(1/2)"
   ]
  },
  {
   "cell_type": "code",
   "execution_count": 4,
   "id": "efb95419",
   "metadata": {},
   "outputs": [
    {
     "data": {
      "text/plain": [
       "7.0"
      ]
     },
     "execution_count": 4,
     "metadata": {},
     "output_type": "execute_result"
    }
   ],
   "source": [
    "square_root(49)"
   ]
  },
  {
   "cell_type": "markdown",
   "id": "98462d48",
   "metadata": {},
   "source": [
    "Can you write a function function_tuple that takes in two numbers a and b and returns the sum as well as the product of these numbers"
   ]
  },
  {
   "cell_type": "code",
   "execution_count": 13,
   "id": "c124c0ab",
   "metadata": {},
   "outputs": [
    {
     "name": "stdout",
     "output_type": "stream",
     "text": [
      "India pragya khare\n"
     ]
    },
    {
     "data": {
      "text/plain": [
       "(5, 6)"
      ]
     },
     "execution_count": 13,
     "metadata": {},
     "output_type": "execute_result"
    }
   ],
   "source": [
    "class some_maths:\n",
    "    \n",
    "    country=\"India\"\n",
    "    \n",
    "    def __init__(self,name=\"pragya\",surname=\"khare\"):\n",
    "        self.name=name\n",
    "        self.surname=surname\n",
    "        \n",
    "    def getName(self):\n",
    "        return (self.name,self.surname)\n",
    "    \n",
    "    def setName(self,name,surname):\n",
    "        self.name=name\n",
    "        self.surname=surname\n",
    "        \n",
    "    def function_tuple(self,a,b):\n",
    "        add=a+b\n",
    "        prod=a*b\n",
    "        return(add,prod)\n",
    "    \n",
    "student=some_maths()\n",
    "\n",
    "print(student.country,student.name,student.surname)\n",
    "student.function_tuple(2,3)\n",
    "    "
   ]
  },
  {
   "cell_type": "code",
   "execution_count": 7,
   "id": "779a065f",
   "metadata": {},
   "outputs": [
    {
     "name": "stdout",
     "output_type": "stream",
     "text": [
      "Enter\n",
      "hello world\n",
      "Enter\n",
      "985223\n"
     ]
    }
   ],
   "source": [
    "def greet(fx):\n",
    "    def mfx(*args,**kwargs):\n",
    "        print(\"Enter\")\n",
    "        fx(*args,**kwargs)\n",
    "        #print(\"Exit\")\n",
    "    return mfx\n",
    "        \n",
    "@greet\n",
    "def hello():\n",
    "    print(\"hello world\")\n",
    "    \n",
    "@greet   \n",
    "def add(a,b):\n",
    "    print(a+b)\n",
    "    \n",
    "hello()\n",
    "add(980980,4243)"
   ]
  },
  {
   "cell_type": "code",
   "execution_count": null,
   "id": "9580d5e8",
   "metadata": {},
   "outputs": [],
   "source": []
  }
 ],
 "metadata": {
  "kernelspec": {
   "display_name": "Python 3 (ipykernel)",
   "language": "python",
   "name": "python3"
  },
  "language_info": {
   "codemirror_mode": {
    "name": "ipython",
    "version": 3
   },
   "file_extension": ".py",
   "mimetype": "text/x-python",
   "name": "python",
   "nbconvert_exporter": "python",
   "pygments_lexer": "ipython3",
   "version": "3.11.4"
  }
 },
 "nbformat": 4,
 "nbformat_minor": 5
}
