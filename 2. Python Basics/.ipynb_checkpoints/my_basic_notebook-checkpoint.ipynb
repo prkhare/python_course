{
 "cells": [
  {
   "cell_type": "code",
   "execution_count": 1,
   "id": "003843cb",
   "metadata": {},
   "outputs": [
    {
     "name": "stdout",
     "output_type": "stream",
     "text": [
      "love*love*love*love*love*\n"
     ]
    }
   ],
   "source": [
    "print(\"love*\" * 5)"
   ]
  },
  {
   "cell_type": "code",
   "execution_count": 2,
   "id": "37dedd7e",
   "metadata": {},
   "outputs": [],
   "source": [
    "x=\"Namaste World\""
   ]
  },
  {
   "cell_type": "code",
   "execution_count": 3,
   "id": "927a9961",
   "metadata": {},
   "outputs": [
    {
     "name": "stdout",
     "output_type": "stream",
     "text": [
      "ste\n"
     ]
    }
   ],
   "source": [
    "print(x[4:7])"
   ]
  },
  {
   "cell_type": "code",
   "execution_count": 10,
   "id": "d624a024",
   "metadata": {},
   "outputs": [
    {
     "name": "stdout",
     "output_type": "stream",
     "text": [
      "ste\n"
     ]
    }
   ],
   "source": [
    "print(x[-9:-6])"
   ]
  },
  {
   "cell_type": "code",
   "execution_count": 12,
   "id": "080dde3b",
   "metadata": {},
   "outputs": [
    {
     "name": "stdout",
     "output_type": "stream",
     "text": [
      "World\n"
     ]
    }
   ],
   "source": [
    "print(x[8:])"
   ]
  },
  {
   "cell_type": "code",
   "execution_count": 13,
   "id": "f386c4cf",
   "metadata": {},
   "outputs": [
    {
     "name": "stdout",
     "output_type": "stream",
     "text": [
      "World\n"
     ]
    }
   ],
   "source": [
    "print(x[-5:])"
   ]
  },
  {
   "cell_type": "code",
   "execution_count": 14,
   "id": "d347fd18",
   "metadata": {},
   "outputs": [
    {
     "name": "stdout",
     "output_type": "stream",
     "text": [
      "this is Namaste World and year is 2023\n"
     ]
    }
   ],
   "source": [
    "y=2023\n",
    "\n",
    "print(f\"this is {x} and year is {y}\")"
   ]
  },
  {
   "cell_type": "code",
   "execution_count": 1,
   "id": "0f9c89dc",
   "metadata": {},
   "outputs": [
    {
     "ename": "NameError",
     "evalue": "name 'x' is not defined",
     "output_type": "error",
     "traceback": [
      "\u001b[1;31m---------------------------------------------------------------------------\u001b[0m",
      "\u001b[1;31mNameError\u001b[0m                                 Traceback (most recent call last)",
      "Cell \u001b[1;32mIn[1], line 1\u001b[0m\n\u001b[1;32m----> 1\u001b[0m \u001b[38;5;28mprint\u001b[39m(\u001b[38;5;124m\"\u001b[39m\u001b[38;5;124mthis is \u001b[39m\u001b[38;5;132;01m{}\u001b[39;00m\u001b[38;5;124m and year is \u001b[39m\u001b[38;5;132;01m{}\u001b[39;00m\u001b[38;5;124m\"\u001b[39m\u001b[38;5;241m.\u001b[39mformat(\u001b[43mx\u001b[49m,y))\n",
      "\u001b[1;31mNameError\u001b[0m: name 'x' is not defined"
     ]
    }
   ],
   "source": [
    "print(\"this is {} and year is {}\".format(x,y))"
   ]
  },
  {
   "cell_type": "code",
   "execution_count": 1,
   "id": "f94d7576",
   "metadata": {},
   "outputs": [],
   "source": [
    "l = [1, 2.3, ['a', 'b'], 'New York']"
   ]
  },
  {
   "cell_type": "code",
   "execution_count": 3,
   "id": "f09c89f8",
   "metadata": {},
   "outputs": [
    {
     "name": "stdout",
     "output_type": "stream",
     "text": [
      "b\n"
     ]
    }
   ],
   "source": [
    "print(l[-2][1])"
   ]
  },
  {
   "cell_type": "code",
   "execution_count": 4,
   "id": "4e88f74f",
   "metadata": {},
   "outputs": [],
   "source": [
    "dict={}"
   ]
  },
  {
   "cell_type": "code",
   "execution_count": 5,
   "id": "6dd6e5b5",
   "metadata": {},
   "outputs": [
    {
     "data": {
      "text/plain": [
       "{}"
      ]
     },
     "execution_count": 5,
     "metadata": {},
     "output_type": "execute_result"
    }
   ],
   "source": [
    "dict\n"
   ]
  },
  {
   "cell_type": "code",
   "execution_count": 6,
   "id": "6e55ef13",
   "metadata": {},
   "outputs": [],
   "source": [
    "dict={'animal':'dog'}"
   ]
  },
  {
   "cell_type": "code",
   "execution_count": 7,
   "id": "094c94c1",
   "metadata": {},
   "outputs": [
    {
     "data": {
      "text/plain": [
       "{'animal': 'dog'}"
      ]
     },
     "execution_count": 7,
     "metadata": {},
     "output_type": "execute_result"
    }
   ],
   "source": [
    "dict"
   ]
  },
  {
   "cell_type": "code",
   "execution_count": 8,
   "id": "9776ee41",
   "metadata": {},
   "outputs": [],
   "source": [
    "dict={'color':'black'}"
   ]
  },
  {
   "cell_type": "code",
   "execution_count": 9,
   "id": "8d770090",
   "metadata": {},
   "outputs": [
    {
     "data": {
      "text/plain": [
       "{'color': 'black'}"
      ]
     },
     "execution_count": 9,
     "metadata": {},
     "output_type": "execute_result"
    }
   ],
   "source": [
    "dict"
   ]
  },
  {
   "cell_type": "code",
   "execution_count": 10,
   "id": "1ea7bd37",
   "metadata": {},
   "outputs": [
    {
     "name": "stdout",
     "output_type": "stream",
     "text": [
      "{'color': 'black', 'animal': 'dog'}\n"
     ]
    }
   ],
   "source": [
    "dict['animal']='dog'\n",
    "print(dict)"
   ]
  },
  {
   "cell_type": "code",
   "execution_count": 11,
   "id": "358ef33c",
   "metadata": {},
   "outputs": [],
   "source": [
    "dict['animal']='cat'"
   ]
  },
  {
   "cell_type": "code",
   "execution_count": 12,
   "id": "05c1762a",
   "metadata": {},
   "outputs": [
    {
     "data": {
      "text/plain": [
       "{'color': 'black', 'animal': 'cat'}"
      ]
     },
     "execution_count": 12,
     "metadata": {},
     "output_type": "execute_result"
    }
   ],
   "source": [
    "dict"
   ]
  },
  {
   "cell_type": "code",
   "execution_count": 15,
   "id": "fe927ff1",
   "metadata": {},
   "outputs": [
    {
     "name": "stdout",
     "output_type": "stream",
     "text": [
      "hello \n",
      "hello \n",
      "hello \n",
      "\n"
     ]
    }
   ],
   "source": [
    "print(\"hello \\n\"*3)"
   ]
  },
  {
   "cell_type": "code",
   "execution_count": 16,
   "id": "ca04e54a",
   "metadata": {},
   "outputs": [],
   "source": [
    "list_1 = [2,4,5,6,8,7,9,10]"
   ]
  },
  {
   "cell_type": "code",
   "execution_count": 22,
   "id": "7c346a0d",
   "metadata": {},
   "outputs": [
    {
     "name": "stdout",
     "output_type": "stream",
     "text": [
      "the square of 2 is : 4\n",
      "the square of 4 is : 16\n",
      "the square of 5 is : 25\n",
      "the square of 6 is : 36\n",
      "the square of 8 is : 64\n",
      "the square of 7 is : 49\n",
      "the square of 9 is : 81\n",
      "the square of 10 is : 100\n"
     ]
    }
   ],
   "source": [
    "for i in list_1:\n",
    "    print(f\"the square of {i} is : {i**2}\")"
   ]
  },
  {
   "cell_type": "code",
   "execution_count": 4,
   "id": "d46c61af",
   "metadata": {},
   "outputs": [],
   "source": [
    "nums=[1,2,3,4,9,13,18]"
   ]
  },
  {
   "cell_type": "code",
   "execution_count": 5,
   "id": "c795e4df",
   "metadata": {},
   "outputs": [],
   "source": [
    "snums=[num**2 for num in nums]"
   ]
  },
  {
   "cell_type": "code",
   "execution_count": 6,
   "id": "eccbfc6b",
   "metadata": {},
   "outputs": [
    {
     "data": {
      "text/plain": [
       "[1, 4, 9, 16, 81, 169, 324]"
      ]
     },
     "execution_count": 6,
     "metadata": {},
     "output_type": "execute_result"
    }
   ],
   "source": [
    "snums"
   ]
  },
  {
   "cell_type": "code",
   "execution_count": 11,
   "id": "06287696",
   "metadata": {},
   "outputs": [],
   "source": [
    "cnums=[[num,num**2] for num in nums if num>5]"
   ]
  },
  {
   "cell_type": "code",
   "execution_count": 12,
   "id": "4158b0f4",
   "metadata": {},
   "outputs": [
    {
     "data": {
      "text/plain": [
       "[[9, 81], [13, 169], [18, 324]]"
      ]
     },
     "execution_count": 12,
     "metadata": {},
     "output_type": "execute_result"
    }
   ],
   "source": [
    "cnums"
   ]
  },
  {
   "cell_type": "code",
   "execution_count": null,
   "id": "8c82d080",
   "metadata": {},
   "outputs": [],
   "source": []
  }
 ],
 "metadata": {
  "kernelspec": {
   "display_name": "Python 3 (ipykernel)",
   "language": "python",
   "name": "python3"
  },
  "language_info": {
   "codemirror_mode": {
    "name": "ipython",
    "version": 3
   },
   "file_extension": ".py",
   "mimetype": "text/x-python",
   "name": "python",
   "nbconvert_exporter": "python",
   "pygments_lexer": "ipython3",
   "version": "3.11.4"
  }
 },
 "nbformat": 4,
 "nbformat_minor": 5
}
