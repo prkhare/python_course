{
 "cells": [
  {
   "cell_type": "code",
   "execution_count": 3,
   "id": "e1d79be4",
   "metadata": {},
   "outputs": [],
   "source": [
    "import numpy as np"
   ]
  },
  {
   "cell_type": "code",
   "execution_count": 2,
   "id": "c85ba71c",
   "metadata": {},
   "outputs": [
    {
     "name": "stdout",
     "output_type": "stream",
     "text": [
      "Collecting numpy\n",
      "  Downloading numpy-1.25.2-cp311-cp311-win_amd64.whl (15.5 MB)\n",
      "                                              0.0/15.5 MB ? eta -:--:--\n",
      "                                              0.2/15.5 MB 3.5 MB/s eta 0:00:05\n",
      "                                              0.4/15.5 MB 3.8 MB/s eta 0:00:04\n",
      "     -                                        0.6/15.5 MB 4.3 MB/s eta 0:00:04\n",
      "     --                                       0.8/15.5 MB 4.4 MB/s eta 0:00:04\n",
      "     --                                       1.1/15.5 MB 4.7 MB/s eta 0:00:04\n",
      "     ---                                      1.4/15.5 MB 4.8 MB/s eta 0:00:03\n",
      "     ----                                     1.6/15.5 MB 4.9 MB/s eta 0:00:03\n",
      "     ----                                     1.9/15.5 MB 4.8 MB/s eta 0:00:03\n",
      "     -----                                    2.1/15.5 MB 4.7 MB/s eta 0:00:03\n",
      "     -----                                    2.3/15.5 MB 4.7 MB/s eta 0:00:03\n",
      "     ------                                   2.5/15.5 MB 4.8 MB/s eta 0:00:03\n",
      "     -------                                  2.8/15.5 MB 4.9 MB/s eta 0:00:03\n",
      "     -------                                  2.8/15.5 MB 4.4 MB/s eta 0:00:03\n",
      "     -------                                  2.9/15.5 MB 4.3 MB/s eta 0:00:03\n",
      "     --------                                 3.2/15.5 MB 4.5 MB/s eta 0:00:03\n",
      "     --------                                 3.3/15.5 MB 4.4 MB/s eta 0:00:03\n",
      "     ---------                                3.6/15.5 MB 4.5 MB/s eta 0:00:03\n",
      "     ---------                                3.9/15.5 MB 4.5 MB/s eta 0:00:03\n",
      "     ----------                               4.1/15.5 MB 4.5 MB/s eta 0:00:03\n",
      "     -----------                              4.3/15.5 MB 4.5 MB/s eta 0:00:03\n",
      "     -----------                              4.6/15.5 MB 4.6 MB/s eta 0:00:03\n",
      "     ------------                             4.8/15.5 MB 4.6 MB/s eta 0:00:03\n",
      "     -------------                            5.1/15.5 MB 4.6 MB/s eta 0:00:03\n",
      "     -------------                            5.3/15.5 MB 4.7 MB/s eta 0:00:03\n",
      "     --------------                           5.6/15.5 MB 4.7 MB/s eta 0:00:03\n",
      "     --------------                           5.7/15.5 MB 4.7 MB/s eta 0:00:03\n",
      "     ---------------                          6.0/15.5 MB 4.7 MB/s eta 0:00:03\n",
      "     ---------------                          6.1/15.5 MB 4.6 MB/s eta 0:00:03\n",
      "     ----------------                         6.4/15.5 MB 4.6 MB/s eta 0:00:02\n",
      "     -----------------                        6.6/15.5 MB 4.7 MB/s eta 0:00:02\n",
      "     -----------------                        6.8/15.5 MB 4.6 MB/s eta 0:00:02\n",
      "     ------------------                       7.0/15.5 MB 4.6 MB/s eta 0:00:02\n",
      "     ------------------                       7.2/15.5 MB 4.6 MB/s eta 0:00:02\n",
      "     -------------------                      7.5/15.5 MB 4.7 MB/s eta 0:00:02\n",
      "     -------------------                      7.7/15.5 MB 4.7 MB/s eta 0:00:02\n",
      "     --------------------                     8.0/15.5 MB 4.7 MB/s eta 0:00:02\n",
      "     --------------------                     8.1/15.5 MB 4.7 MB/s eta 0:00:02\n",
      "     ---------------------                    8.4/15.5 MB 4.7 MB/s eta 0:00:02\n",
      "     ----------------------                   8.7/15.5 MB 4.7 MB/s eta 0:00:02\n",
      "     ----------------------                   8.9/15.5 MB 4.7 MB/s eta 0:00:02\n",
      "     -----------------------                  9.2/15.5 MB 4.7 MB/s eta 0:00:02\n",
      "     -----------------------                  9.3/15.5 MB 4.7 MB/s eta 0:00:02\n",
      "     ------------------------                 9.6/15.5 MB 4.7 MB/s eta 0:00:02\n",
      "     -------------------------                9.9/15.5 MB 4.7 MB/s eta 0:00:02\n",
      "     -------------------------                10.1/15.5 MB 4.7 MB/s eta 0:00:02\n",
      "     --------------------------               10.3/15.5 MB 4.8 MB/s eta 0:00:02\n",
      "     --------------------------               10.5/15.5 MB 4.8 MB/s eta 0:00:02\n",
      "     ---------------------------              10.7/15.5 MB 4.8 MB/s eta 0:00:02\n",
      "     ----------------------------             11.0/15.5 MB 4.8 MB/s eta 0:00:01\n",
      "     ----------------------------             11.2/15.5 MB 4.8 MB/s eta 0:00:01\n",
      "     -----------------------------            11.4/15.5 MB 4.7 MB/s eta 0:00:01\n",
      "     ------------------------------           11.7/15.5 MB 4.8 MB/s eta 0:00:01\n",
      "     ------------------------------           12.0/15.5 MB 4.7 MB/s eta 0:00:01\n",
      "     -------------------------------          12.2/15.5 MB 4.7 MB/s eta 0:00:01\n",
      "     -------------------------------          12.4/15.5 MB 4.8 MB/s eta 0:00:01\n",
      "     --------------------------------         12.6/15.5 MB 4.7 MB/s eta 0:00:01\n",
      "     ---------------------------------        12.9/15.5 MB 4.7 MB/s eta 0:00:01\n",
      "     ---------------------------------        13.2/15.5 MB 5.0 MB/s eta 0:00:01\n",
      "     ----------------------------------       13.4/15.5 MB 4.9 MB/s eta 0:00:01\n",
      "     ----------------------------------       13.6/15.5 MB 4.9 MB/s eta 0:00:01\n",
      "     -----------------------------------      13.8/15.5 MB 4.9 MB/s eta 0:00:01\n",
      "     ------------------------------------     14.0/15.5 MB 4.9 MB/s eta 0:00:01\n",
      "     ------------------------------------     14.3/15.5 MB 4.9 MB/s eta 0:00:01\n",
      "     -------------------------------------    14.4/15.5 MB 4.9 MB/s eta 0:00:01\n",
      "     -------------------------------------    14.6/15.5 MB 4.9 MB/s eta 0:00:01\n",
      "     --------------------------------------   14.9/15.5 MB 4.9 MB/s eta 0:00:01\n",
      "     --------------------------------------   15.1/15.5 MB 4.8 MB/s eta 0:00:01\n",
      "     ---------------------------------------  15.4/15.5 MB 4.8 MB/s eta 0:00:01\n",
      "     ---------------------------------------  15.5/15.5 MB 4.8 MB/s eta 0:00:01\n",
      "     ---------------------------------------  15.5/15.5 MB 4.8 MB/s eta 0:00:01\n",
      "     ---------------------------------------  15.5/15.5 MB 4.8 MB/s eta 0:00:01\n",
      "     ---------------------------------------  15.5/15.5 MB 4.8 MB/s eta 0:00:01\n",
      "     ---------------------------------------- 15.5/15.5 MB 4.5 MB/s eta 0:00:00\n",
      "Installing collected packages: numpy\n",
      "Successfully installed numpy-1.25.2\n",
      "Note: you may need to restart the kernel to use updated packages.\n"
     ]
    },
    {
     "name": "stderr",
     "output_type": "stream",
     "text": [
      "  WARNING: The script f2py.exe is installed in 'C:\\Users\\Admin\\AppData\\Local\\Packages\\PythonSoftwareFoundation.Python.3.11_qbz5n2kfra8p0\\LocalCache\\local-packages\\Python311\\Scripts' which is not on PATH.\n",
      "  Consider adding this directory to PATH or, if you prefer to suppress this warning, use --no-warn-script-location.\n",
      "\n",
      "[notice] A new release of pip is available: 23.1.2 -> 23.2.1\n",
      "[notice] To update, run: C:\\Users\\Admin\\AppData\\Local\\Microsoft\\WindowsApps\\PythonSoftwareFoundation.Python.3.11_qbz5n2kfra8p0\\python.exe -m pip install --upgrade pip\n"
     ]
    }
   ],
   "source": [
    "pip install numpy"
   ]
  },
  {
   "cell_type": "code",
   "execution_count": 5,
   "id": "e7c99422",
   "metadata": {},
   "outputs": [
    {
     "data": {
      "text/plain": [
       "array([1, 2, 3, 4, 5, 6, 7, 8, 9])"
      ]
     },
     "execution_count": 5,
     "metadata": {},
     "output_type": "execute_result"
    }
   ],
   "source": [
    "import numpy as np\n",
    "np.arange(1,10)"
   ]
  },
  {
   "cell_type": "code",
   "execution_count": 7,
   "id": "30d11505",
   "metadata": {},
   "outputs": [],
   "source": [
    "mylist=[1,3,434,434]\n",
    "narr=np.array(mylist)"
   ]
  },
  {
   "cell_type": "code",
   "execution_count": 8,
   "id": "e4ee74cc",
   "metadata": {},
   "outputs": [
    {
     "data": {
      "text/plain": [
       "array([  1,   3, 434, 434])"
      ]
     },
     "execution_count": 8,
     "metadata": {},
     "output_type": "execute_result"
    }
   ],
   "source": [
    "narr"
   ]
  },
  {
   "cell_type": "code",
   "execution_count": 9,
   "id": "2aec73e4",
   "metadata": {},
   "outputs": [
    {
     "data": {
      "text/plain": [
       "(4,)"
      ]
     },
     "execution_count": 9,
     "metadata": {},
     "output_type": "execute_result"
    }
   ],
   "source": [
    "narr.shape"
   ]
  },
  {
   "cell_type": "code",
   "execution_count": 10,
   "id": "6925b537",
   "metadata": {},
   "outputs": [
    {
     "data": {
      "text/plain": [
       "array([[ 1,  2,  3,  4],\n",
       "       [ 4,  5,  6,  7],\n",
       "       [42,  4, 54,  5]])"
      ]
     },
     "execution_count": 10,
     "metadata": {},
     "output_type": "execute_result"
    }
   ],
   "source": [
    "mylist1=[[1,2,3,4],[4,5,6,7],[42,4,54,5]]\n",
    "narr1=np.array(mylist1)\n",
    "narr1"
   ]
  },
  {
   "cell_type": "code",
   "execution_count": 11,
   "id": "9d23a743",
   "metadata": {},
   "outputs": [
    {
     "data": {
      "text/plain": [
       "(3, 4)"
      ]
     },
     "execution_count": 11,
     "metadata": {},
     "output_type": "execute_result"
    }
   ],
   "source": [
    "narr1.shape"
   ]
  },
  {
   "cell_type": "code",
   "execution_count": 12,
   "id": "26929ce7",
   "metadata": {},
   "outputs": [
    {
     "data": {
      "text/plain": [
       "numpy.ndarray"
      ]
     },
     "execution_count": 12,
     "metadata": {},
     "output_type": "execute_result"
    }
   ],
   "source": [
    "type(narr1)"
   ]
  },
  {
   "cell_type": "code",
   "execution_count": 13,
   "id": "da4a7d13",
   "metadata": {},
   "outputs": [
    {
     "data": {
      "text/plain": [
       "dtype('int32')"
      ]
     },
     "execution_count": 13,
     "metadata": {},
     "output_type": "execute_result"
    }
   ],
   "source": [
    "narr1.dtype"
   ]
  },
  {
   "cell_type": "code",
   "execution_count": 14,
   "id": "3c1f652c",
   "metadata": {},
   "outputs": [
    {
     "data": {
      "text/plain": [
       "<function ndarray.reshape>"
      ]
     },
     "execution_count": 14,
     "metadata": {},
     "output_type": "execute_result"
    }
   ],
   "source": [
    "narr1.reshape"
   ]
  },
  {
   "cell_type": "code",
   "execution_count": 15,
   "id": "46fef44a",
   "metadata": {},
   "outputs": [
    {
     "data": {
      "text/plain": [
       "array([0.49901848, 0.88374397, 0.11673406])"
      ]
     },
     "execution_count": 15,
     "metadata": {},
     "output_type": "execute_result"
    }
   ],
   "source": [
    "np.random.rand(3)"
   ]
  },
  {
   "cell_type": "code",
   "execution_count": 16,
   "id": "81878a3a",
   "metadata": {},
   "outputs": [
    {
     "data": {
      "text/plain": [
       "array([[[0.8175117 , 0.60710495, 0.34789177, 0.32985412, 0.04732834],\n",
       "        [0.57008307, 0.17005665, 0.85617098, 0.94867683, 0.10571302],\n",
       "        [0.73928577, 0.6234709 , 0.95580603, 0.95045408, 0.81616069],\n",
       "        [0.79937304, 0.23616533, 0.0444941 , 0.95154885, 0.23610556]],\n",
       "\n",
       "       [[0.58277537, 0.69846074, 0.00257551, 0.63043447, 0.2378578 ],\n",
       "        [0.85978629, 0.1660736 , 0.64502751, 0.24329314, 0.87357024],\n",
       "        [0.81609243, 0.07783603, 0.67550468, 0.96733656, 0.381571  ],\n",
       "        [0.16668002, 0.37891789, 0.24631798, 0.11400358, 0.669473  ]],\n",
       "\n",
       "       [[0.14792268, 0.44349916, 0.44535158, 0.42323315, 0.43430448],\n",
       "        [0.67718399, 0.2125477 , 0.25821618, 0.02583471, 0.04251907],\n",
       "        [0.55925985, 0.90472065, 0.13561733, 0.99811662, 0.09223035],\n",
       "        [0.09237947, 0.7290497 , 0.49283672, 0.88547307, 0.20892398]]])"
      ]
     },
     "execution_count": 16,
     "metadata": {},
     "output_type": "execute_result"
    }
   ],
   "source": [
    "np.random.rand(3,4,5)"
   ]
  },
  {
   "cell_type": "code",
   "execution_count": null,
   "id": "3001bf61",
   "metadata": {},
   "outputs": [],
   "source": []
  }
 ],
 "metadata": {
  "kernelspec": {
   "display_name": "Python 3 (ipykernel)",
   "language": "python",
   "name": "python3"
  },
  "language_info": {
   "codemirror_mode": {
    "name": "ipython",
    "version": 3
   },
   "file_extension": ".py",
   "mimetype": "text/x-python",
   "name": "python",
   "nbconvert_exporter": "python",
   "pygments_lexer": "ipython3",
   "version": "3.11.4"
  }
 },
 "nbformat": 4,
 "nbformat_minor": 5
}
